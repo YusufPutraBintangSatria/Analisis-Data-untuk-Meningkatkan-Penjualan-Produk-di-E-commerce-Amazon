{
  "nbformat": 4,
  "nbformat_minor": 0,
  "metadata": {
    "colab": {
      "provenance": [],
      "authorship_tag": "ABX9TyN5U0HIB+lStFMzjjWbTn1U",
      "include_colab_link": true
    },
    "kernelspec": {
      "name": "python3",
      "display_name": "Python 3"
    },
    "language_info": {
      "name": "python"
    }
  },
  "cells": [
    {
      "cell_type": "markdown",
      "metadata": {
        "id": "view-in-github",
        "colab_type": "text"
      },
      "source": [
        "<a href=\"https://colab.research.google.com/github/YusufPutraBintangSatria/Analisis-Data-untuk-Meningkatkan-Penjualan-Produk-di-E-commerce-Amazon/blob/main/cleandata.ipynb\" target=\"_parent\"><img src=\"https://colab.research.google.com/assets/colab-badge.svg\" alt=\"Open In Colab\"/></a>"
      ]
    },
    {
      "cell_type": "code",
      "source": [
        "import pandas as pd\n",
        "\n",
        "# File path for the uploaded dataset\n",
        "# Assuming the file is in the current working directory\n",
        "# If not, provide the correct path\n",
        "file_path = 'AmazonSaleReport.csv'\n",
        "\n",
        "try:\n",
        "  # Load the dataset, handling potential encoding issues\n",
        "  data = pd.read_csv(file_path, encoding='latin-1')\n",
        "\n",
        "  # Display info and head of the DataFrame\n",
        "  data_info = data.info()\n",
        "  data_head = data.head()\n",
        "\n",
        "  print(data_info)\n",
        "  print(data_head)\n",
        "except FileNotFoundError:\n",
        "  print(f\"Error: File '{file_path}' not found. Please upload the file or provide the correct path.\")\n",
        "except pd.errors.ParserError:\n",
        "  print(f\"Error: Could not parse the file '{file_path}'. Please check the file format.\")\n",
        "except Exception as e:\n",
        "  print(f\"An unexpected error occurred: {e}\")"
      ],
      "metadata": {
        "colab": {
          "base_uri": "https://localhost:8080/"
        },
        "id": "5SByBzvKzYId",
        "outputId": "42d55db3-f942-4aab-b8e6-33cfd10c09ff"
      },
      "execution_count": 4,
      "outputs": [
        {
          "output_type": "stream",
          "name": "stdout",
          "text": [
            "<class 'pandas.core.frame.DataFrame'>\n",
            "RangeIndex: 90416 entries, 0 to 90415\n",
            "Data columns (total 24 columns):\n",
            " #   Column              Non-Null Count  Dtype  \n",
            "---  ------              --------------  -----  \n",
            " 0   index               90416 non-null  int64  \n",
            " 1   Order ID            90416 non-null  object \n",
            " 2   Date                90415 non-null  object \n",
            " 3   Status              90415 non-null  object \n",
            " 4   Fulfilment          90415 non-null  object \n",
            " 5   Sales Channel       90415 non-null  object \n",
            " 6   ship-service-level  90415 non-null  object \n",
            " 7   Style               90415 non-null  object \n",
            " 8   SKU                 90415 non-null  object \n",
            " 9   Category            90415 non-null  object \n",
            " 10  Size                90415 non-null  object \n",
            " 11  ASIN                90415 non-null  object \n",
            " 12  Courier Status      85324 non-null  object \n",
            " 13  Qty                 90415 non-null  float64\n",
            " 14  currency            84960 non-null  object \n",
            " 15  Amount              84960 non-null  float64\n",
            " 16  ship-city           90390 non-null  object \n",
            " 17  ship-state          90390 non-null  object \n",
            " 18  ship-postal-code    90390 non-null  float64\n",
            " 19  ship-country        90390 non-null  object \n",
            " 20  promotion-ids       56822 non-null  object \n",
            " 21  B2B                 90415 non-null  object \n",
            " 22  fulfilled-by        29069 non-null  object \n",
            " 23  Unnamed: 22         41365 non-null  object \n",
            "dtypes: float64(3), int64(1), object(20)\n",
            "memory usage: 16.6+ MB\n",
            "None\n",
            "   index             Order ID      Date                        Status  \\\n",
            "0      0  405-8078784-5731545  04-30-22                     Cancelled   \n",
            "1      1  171-9198151-1101146  04-30-22  Shipped - Delivered to Buyer   \n",
            "2      2  404-0687676-7273146  04-30-22                       Shipped   \n",
            "3      3  403-9615377-8133951  04-30-22                     Cancelled   \n",
            "4      4  407-1069790-7240320  04-30-22                       Shipped   \n",
            "\n",
            "  Fulfilment Sales Channel  ship-service-level    Style              SKU  \\\n",
            "0   Merchant      Amazon.in           Standard   SET389   SET389-KR-NP-S   \n",
            "1   Merchant      Amazon.in           Standard  JNE3781  JNE3781-KR-XXXL   \n",
            "2     Amazon      Amazon.in          Expedited  JNE3371    JNE3371-KR-XL   \n",
            "3   Merchant      Amazon.in           Standard    J0341       J0341-DR-L   \n",
            "4     Amazon      Amazon.in          Expedited  JNE3671  JNE3671-TU-XXXL   \n",
            "\n",
            "        Category  ... currency  Amount    ship-city   ship-state  \\\n",
            "0            Set  ...      INR  647.62       MUMBAI  MAHARASHTRA   \n",
            "1          kurta  ...      INR  406.00    BENGALURU    KARNATAKA   \n",
            "2          kurta  ...      INR  329.00  NAVI MUMBAI  MAHARASHTRA   \n",
            "3  Western Dress  ...      INR  753.33   PUDUCHERRY   PUDUCHERRY   \n",
            "4            Top  ...      INR  574.00      CHENNAI   TAMIL NADU   \n",
            "\n",
            "  ship-postal-code  ship-country  \\\n",
            "0         400081.0            IN   \n",
            "1         560085.0            IN   \n",
            "2         410210.0            IN   \n",
            "3         605008.0            IN   \n",
            "4         600073.0            IN   \n",
            "\n",
            "                                       promotion-ids    B2B  fulfilled-by  \\\n",
            "0                                                NaN  False     Easy Ship   \n",
            "1  Amazon PLCC Free-Financing Universal Merchant ...  False     Easy Ship   \n",
            "2       IN Core Free Shipping 2015/04/08 23-48-5-108   True           NaN   \n",
            "3                                                NaN  False     Easy Ship   \n",
            "4                                                NaN  False           NaN   \n",
            "\n",
            "  Unnamed: 22  \n",
            "0         NaN  \n",
            "1         NaN  \n",
            "2         NaN  \n",
            "3         NaN  \n",
            "4         NaN  \n",
            "\n",
            "[5 rows x 24 columns]\n"
          ]
        },
        {
          "output_type": "stream",
          "name": "stderr",
          "text": [
            "<ipython-input-4-241ed50fe20e>:20: DtypeWarning: Columns (21,23) have mixed types. Specify dtype option on import or set low_memory=False.\n",
            "  data = pd.read_csv(file_path, encoding='latin-1')\n"
          ]
        }
      ]
    },
    {
      "cell_type": "code",
      "source": [],
      "metadata": {
        "id": "afAnda-O9OHO"
      },
      "execution_count": null,
      "outputs": []
    },
    {
      "cell_type": "code",
      "execution_count": 5,
      "metadata": {
        "colab": {
          "base_uri": "https://localhost:8080/"
        },
        "id": "8-bL0rSIzLAA",
        "outputId": "7e5db272-0e42-4269-b4c8-1068461ece9a"
      },
      "outputs": [
        {
          "output_type": "stream",
          "name": "stderr",
          "text": [
            "<ipython-input-5-ef1dcf23cbaf>:5: UserWarning: Could not infer format, so each element will be parsed individually, falling back to `dateutil`. To ensure parsing is consistent and as-expected, please specify a format.\n",
            "  cleaned_data['Date'] = pd.to_datetime(cleaned_data['Date'], errors='coerce')\n"
          ]
        },
        {
          "output_type": "stream",
          "name": "stdout",
          "text": [
            "<class 'pandas.core.frame.DataFrame'>\n",
            "Index: 84960 entries, 0 to 90414\n",
            "Data columns (total 21 columns):\n",
            " #   Column              Non-Null Count  Dtype         \n",
            "---  ------              --------------  -----         \n",
            " 0   index               84960 non-null  int64         \n",
            " 1   Order ID            84960 non-null  object        \n",
            " 2   Date                84960 non-null  datetime64[ns]\n",
            " 3   Status              84960 non-null  object        \n",
            " 4   Fulfilment          84960 non-null  object        \n",
            " 5   Sales Channel       84960 non-null  object        \n",
            " 6   ship-service-level  84960 non-null  object        \n",
            " 7   Style               84960 non-null  object        \n",
            " 8   SKU                 84960 non-null  object        \n",
            " 9   Category            84960 non-null  object        \n",
            " 10  Size                84960 non-null  object        \n",
            " 11  ASIN                84960 non-null  object        \n",
            " 12  Courier Status      81138 non-null  object        \n",
            " 13  Qty                 84960 non-null  float64       \n",
            " 14  currency            84960 non-null  object        \n",
            " 15  Amount              84960 non-null  float64       \n",
            " 16  ship-city           84936 non-null  object        \n",
            " 17  ship-state          84936 non-null  object        \n",
            " 18  ship-postal-code    84936 non-null  float64       \n",
            " 19  ship-country        84936 non-null  object        \n",
            " 20  B2B                 84960 non-null  object        \n",
            "dtypes: datetime64[ns](1), float64(3), int64(1), object(16)\n",
            "memory usage: 14.3+ MB\n"
          ]
        },
        {
          "output_type": "execute_result",
          "data": {
            "text/plain": [
              "(None,\n",
              " index                    0\n",
              " Order ID                 0\n",
              " Date                     1\n",
              " Status                   1\n",
              " Fulfilment               1\n",
              " Sales Channel            1\n",
              " ship-service-level       1\n",
              " Style                    1\n",
              " SKU                      1\n",
              " Category                 1\n",
              " Size                     1\n",
              " ASIN                     1\n",
              " Courier Status        5092\n",
              " Qty                      1\n",
              " currency              5456\n",
              " Amount                5456\n",
              " ship-city               26\n",
              " ship-state              26\n",
              " ship-postal-code        26\n",
              " ship-country            26\n",
              " B2B                      1\n",
              " dtype: int64,\n",
              "    index             Order ID       Date                        Status  \\\n",
              " 0      0  405-8078784-5731545 2022-04-30                     Cancelled   \n",
              " 1      1  171-9198151-1101146 2022-04-30  Shipped - Delivered to Buyer   \n",
              " 2      2  404-0687676-7273146 2022-04-30                       Shipped   \n",
              " 3      3  403-9615377-8133951 2022-04-30                     Cancelled   \n",
              " 4      4  407-1069790-7240320 2022-04-30                       Shipped   \n",
              " \n",
              "   Fulfilment Sales Channel  ship-service-level    Style              SKU  \\\n",
              " 0   Merchant      Amazon.in           Standard   SET389   SET389-KR-NP-S   \n",
              " 1   Merchant      Amazon.in           Standard  JNE3781  JNE3781-KR-XXXL   \n",
              " 2     Amazon      Amazon.in          Expedited  JNE3371    JNE3371-KR-XL   \n",
              " 3   Merchant      Amazon.in           Standard    J0341       J0341-DR-L   \n",
              " 4     Amazon      Amazon.in          Expedited  JNE3671  JNE3671-TU-XXXL   \n",
              " \n",
              "         Category  ...        ASIN Courier Status  Qty  currency  Amount  \\\n",
              " 0            Set  ...  B09KXVBD7Z            NaN  0.0       INR  647.62   \n",
              " 1          kurta  ...  B09K3WFS32        Shipped  1.0       INR  406.00   \n",
              " 2          kurta  ...  B07WV4JV4D        Shipped  1.0       INR  329.00   \n",
              " 3  Western Dress  ...  B099NRCT7B            NaN  0.0       INR  753.33   \n",
              " 4            Top  ...  B098714BZP        Shipped  1.0       INR  574.00   \n",
              " \n",
              "      ship-city   ship-state ship-postal-code  ship-country    B2B  \n",
              " 0       MUMBAI  MAHARASHTRA         400081.0            IN  False  \n",
              " 1    BENGALURU    KARNATAKA         560085.0            IN  False  \n",
              " 2  NAVI MUMBAI  MAHARASHTRA         410210.0            IN   True  \n",
              " 3   PUDUCHERRY   PUDUCHERRY         605008.0            IN  False  \n",
              " 4      CHENNAI   TAMIL NADU         600073.0            IN  False  \n",
              " \n",
              " [5 rows x 21 columns])"
            ]
          },
          "metadata": {},
          "execution_count": 5
        }
      ],
      "source": [
        "# Drop columns with too many missing values or irrelevant information\n",
        "cleaned_data = data.drop(columns=['Unnamed: 22', 'fulfilled-by', 'promotion-ids'], errors='ignore')\n",
        "\n",
        "# Convert 'Date' to datetime for potential temporal analysis\n",
        "cleaned_data['Date'] = pd.to_datetime(cleaned_data['Date'], errors='coerce')\n",
        "\n",
        "# Check missing values and drop rows with significant nulls in key columns\n",
        "missing_values = cleaned_data.isnull().sum()\n",
        "cleaned_data = cleaned_data.dropna(subset=['Amount', 'Qty', 'Date'])\n",
        "\n",
        "# Display the structure of cleaned data and summary of missing values\n",
        "cleaned_data_info = cleaned_data.info()\n",
        "cleaned_data_head = cleaned_data.head()\n",
        "\n",
        "cleaned_data_info, missing_values, cleaned_data_head\n"
      ]
    },
    {
      "cell_type": "code",
      "source": [
        "# prompt: save to csv\n",
        "\n",
        "cleaned_data.to_csv('cleaned_amazon_sales.csv', index=False)"
      ],
      "metadata": {
        "id": "Ege9unTjzVe3"
      },
      "execution_count": 6,
      "outputs": []
    }
  ]
}